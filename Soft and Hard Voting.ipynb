{
 "cells": [
  {
   "cell_type": "markdown",
   "id": "9933bc16",
   "metadata": {},
   "source": [
    "# Soft and Hard Voting"
   ]
  },
  {
   "cell_type": "markdown",
   "id": "6265661a",
   "metadata": {},
   "source": [
    "Voting Classifier\n",
    "\n",
    "A Voting Classifier is a machine learning model that trains on an ensemble of numerous models and predicts an output (class) \n",
    "based on their highest probability of chosen class as the output.If we have trained a few classifiers, each one achieving about \n",
    "80% accuracy.You may have a Logistic Regression classifier, an SVM classifier, a Random Forest classifier, a K-Nearest Neighbors\n",
    "classifier, and perhaps a few more . A very simple way to create an even better classifier is to aggregate the predictions of \n",
    "each classifier and predict the class that gets the most votes. This majority-vote classifier is called a hard voting classifier.\n",
    "Somewhat surprisingly, this voting classifier often achieves a higher accuracy than the best classifier in the ensemble. \n",
    "In fact, even if each classifier is a weak learner (meaning it does only slightly better than random guessing), the ensemble \n",
    "can still be a strong learner (achieving high accuracy), provided there are a sufficient number of weak learners and they are \n",
    "sufficiently diverse. Voting Classifier supports two types of votings:\n",
    "    \n",
    "Hard Voting: In hard voting, the predicted output class is a class with the highest majority of votes i.e the class which had \n",
    "    the highest probability of being predicted by each of the classifiers. Suppose three classifiers predicted the output \n",
    "    class(A, A, B), so here the majority predicted A as output. Hence A will be the final prediction.\n",
    "\n",
    "Soft Voting: In soft voting, the output class is the prediction based on the average of probability given to that class. \n",
    "    Suppose given some input to three models, the prediction probability for class A = (0.30, 0.47, 0.53) and \n",
    "    B = (0.20, 0.32, 0.40). So the average for class A is 0.4333 and B is 0.3067, the winner is clearly class \n",
    "    A because it had the highest probability averaged by each classifier.\n",
    "\n",
    "Note: Make sure to include a variety of models to feed a Voting Classifier to be sure that the error made by one might be \n",
    "      resolved by the other.\n"
   ]
  },
  {
   "cell_type": "code",
   "execution_count": null,
   "id": "720333dd",
   "metadata": {},
   "outputs": [],
   "source": [
    "import pandas as pd\n",
    "import numpy as np\n",
    "\n",
    "from sklearn.ensemble import RandomForestClassifier\n",
    "from sklearn.ensemble import VotingClassifier\n",
    "from sklearn.linear_model import LogisticRegression\n",
    "from sklearn.svm import SVC"
   ]
  },
  {
   "cell_type": "code",
   "execution_count": null,
   "id": "51c3161d",
   "metadata": {},
   "outputs": [],
   "source": [
    "df = pd.read_csv('advertising.csv')"
   ]
  },
  {
   "cell_type": "code",
   "execution_count": null,
   "id": "87097e60",
   "metadata": {},
   "outputs": [],
   "source": []
  },
  {
   "cell_type": "code",
   "execution_count": null,
   "id": "42a9bd5d",
   "metadata": {},
   "outputs": [],
   "source": [
    "# Dependent and Independent variable\n",
    "x= df[['daily_time_spent', 'Age', 'area_income', 'daily_internet_usage', 'Male']]\n",
    "\n",
    "y= df['clicked_ad']"
   ]
  },
  {
   "cell_type": "code",
   "execution_count": null,
   "id": "534d0b7a",
   "metadata": {},
   "outputs": [],
   "source": [
    "# split\n",
    "from sklearn.model_selection import train_test_split\n",
    "x_train, x_test, y_train, y_test = train_test_split(x,y, test_size = 0.27, random_state= 1000)"
   ]
  },
  {
   "cell_type": "code",
   "execution_count": null,
   "id": "6311719a",
   "metadata": {},
   "outputs": [],
   "source": []
  },
  {
   "cell_type": "code",
   "execution_count": null,
   "id": "c4699492",
   "metadata": {},
   "outputs": [],
   "source": []
  },
  {
   "cell_type": "code",
   "execution_count": null,
   "id": "2095c75c",
   "metadata": {},
   "outputs": [],
   "source": []
  }
 ],
 "metadata": {
  "kernelspec": {
   "display_name": "Python 3 (ipykernel)",
   "language": "python",
   "name": "python3"
  },
  "language_info": {
   "codemirror_mode": {
    "name": "ipython",
    "version": 3
   },
   "file_extension": ".py",
   "mimetype": "text/x-python",
   "name": "python",
   "nbconvert_exporter": "python",
   "pygments_lexer": "ipython3",
   "version": "3.9.12"
  }
 },
 "nbformat": 4,
 "nbformat_minor": 5
}
